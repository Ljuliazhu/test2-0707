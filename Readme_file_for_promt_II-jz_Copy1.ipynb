{
 "cells": [
  {
   "cell_type": "markdown",
   "id": "801b01a1",
   "metadata": {},
   "source": [
    "# Readme for What drives the price of a car?\n",
    "\n",
    "\n",
    "OVERVIEW: This is the readme file for Notebook: prompt_II-jz-Copy1.ipynb  \n",
    "this notebook is part of an Assignment for a Berkely ML/AI program. \n",
    " \n",
    " ### Problem to be solved: \n",
    "In this application, you will explore a dataset from kaggle. The original dataset contained information on 3 million used cars. The provided dataset contains information on 426K cars to ensure speed of processing. Your goal is to understand what factors make a car more or less expensive. As a result of your analysis, you should provide clear recommendations to your client -- a used car dealership -- as to what consumers value in a used car."
   ]
  },
  {
   "cell_type": "markdown",
   "id": "ec5edf39",
   "metadata": {},
   "source": [
    "### My Business objectives for the analysis:\n",
    "1. Use the data provided, find the top 5 factors that are most highly correlated with the used car price\n",
    "2. build a model to predict the price of the car\n",
    "3. understand what are the non-essential information"
   ]
  },
  {
   "cell_type": "markdown",
   "id": "55287c03",
   "metadata": {},
   "source": [
    "### Data used \n",
    "In the directory Data/vehicles.csv  contains the dataset from Kaggle\n"
   ]
  },
  {
   "cell_type": "markdown",
   "id": "a813f35e",
   "metadata": {},
   "source": [
    "\n",
    "# Summary of Findings\n",
    "\n",
    " The top factors that driive the used car price are: Fuel, cylinder and year, then drive.  \n",
    "    We have performed the analysis with different modeling techniques such linearregression, ridge, CVGridsearch, cross-validation.  In addition to identify the top factors. We can also predict the used car price  with over 60% confidence.  The top features and relative weight to predict the price are listed as below\n",
    "           \n",
    "year * fuel:    183.15211156232237\n",
    "year * drive:   160.46827231936183\n",
    "year * drive^2: 121.2858700779711\n",
    "fuel odometer * drive^2 *type^2: 104.70672245065781\n",
    "year * fuel* type^2:  69.37909164088377\n",
    "cylinders *fuel *odometer^2: 54.821398477807165\n",
    "cylinders^2 * fuel *odometer *type^2: 53.756639584152765\n",
    "cylinders^2* fuel* drive *type^2: 52.43390603318785\n",
    "cylinders *fuel* drive^2 *type: 47.972703670494184\n",
    "fuel *odometer^2: 44.602628589114275\n",
    "      \n",
    "### Next steps and recommendations:\n",
    "   1. To find cars with higher price, \n",
    "      the year of the car, and fuel, and drive, cyclinder are the key things to look for when selecting a car.  \n",
    "   2. One area that was counter-intuitive in this result is that the brand of the car did not seem to have much impact on the price.  I suspect that this is because that the manufacturer and model are difficult to translate to numerical values. As a next step, it is worth testing is to add a new parameter such as orignal price to capture that information of the car's brand/model (hence original value)."
   ]
  },
  {
   "cell_type": "code",
   "execution_count": null,
   "id": "a1b84313",
   "metadata": {},
   "outputs": [],
   "source": []
  },
  {
   "cell_type": "code",
   "execution_count": null,
   "id": "2ce7cc11",
   "metadata": {},
   "outputs": [],
   "source": []
  }
 ],
 "metadata": {
  "kernelspec": {
   "display_name": "Python 3 (ipykernel)",
   "language": "python",
   "name": "python3"
  },
  "language_info": {
   "codemirror_mode": {
    "name": "ipython",
    "version": 3
   },
   "file_extension": ".py",
   "mimetype": "text/x-python",
   "name": "python",
   "nbconvert_exporter": "python",
   "pygments_lexer": "ipython3",
   "version": "3.10.9"
  }
 },
 "nbformat": 4,
 "nbformat_minor": 5
}
