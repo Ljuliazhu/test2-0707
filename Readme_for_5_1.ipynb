{
 "cells": [
  {
   "cell_type": "markdown",
   "id": "7aa60fa1",
   "metadata": {},
   "source": [
    "# Readme \n",
    "\n",
    "This file contains an exercise seeking to answer the question, “Will a customer accept the coupon?” \n",
    "\n",
    "#### Data source \n",
    "This data is from the UCI Machine Learning repository and was collected via a survey on Amazon Mechanical Turk. The survey describes different driving scenarios, including the destination, current time, weather, passenger, etc., and then asks people whether they will accept the coupon if they are the driver.\n",
    "\n",
    "#### The attributes of this data set include:\n",
    "- User attributes: gender, age, Marital Status, Number of children, Education, Occupation, income, Number of times that he/she goes to a bar, two restaurants,  and coffeehouse:\n",
    "- Contextual attributes: Driving destination: Weather, Temperature, Time, Passenger:\n",
    "- Coupon attributes \n",
    "\n",
    "#### The Data Bias\n",
    "- Very well balanced on gender\n",
    "- Reasonable for income distribution (there are fewer samples in higher income groups, but that might be representative of the regular population)   \n",
    "- Highly biased toward the younger age (*21,  26, 30 ) are the three highest groups\n",
    "- Highly biased on education level towards college graduate and some college groups\n",
    "- On marital status, it is highly biased on single and married partner groups \n",
    "- Slight bias toward no-children population\n",
    "\n",
    "#### Key results\n",
    "The exercise selected two types of coupons: the Bar, and the restaurants<20$ \n",
    "- For the Bar coupon, the users’ own regular bar-going seems to be the the driving factor.  \n",
    "- For the re restaurants<20$, it appears that the contextual attributes such as temperature and couple expiration are more important than the other factors. \n",
    "\n"
   ]
  }
 ],
 "metadata": {
  "kernelspec": {
   "display_name": "Python 3 (ipykernel)",
   "language": "python",
   "name": "python3"
  },
  "language_info": {
   "codemirror_mode": {
    "name": "ipython",
    "version": 3
   },
   "file_extension": ".py",
   "mimetype": "text/x-python",
   "name": "python",
   "nbconvert_exporter": "python",
   "pygments_lexer": "ipython3",
   "version": "3.10.9"
  }
 },
 "nbformat": 4,
 "nbformat_minor": 5
}
