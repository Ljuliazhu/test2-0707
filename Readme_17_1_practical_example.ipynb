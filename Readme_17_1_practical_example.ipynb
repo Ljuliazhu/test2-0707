{
 "cells": [
  {
   "cell_type": "markdown",
   "id": "8e1fcb2a",
   "metadata": {},
   "source": [
    "# 17.1 Readme file\n",
    "Overview:\n",
    "In this third practical application assignment, your goal is to compare the performance of the classifiers (k-nearest neighbors, logistic regression, decision trees, and support vector machines) you encountered in this section of the program. You will use a dataset related to the marketing of bank products over the telephone.\n",
    "\n",
    "Data:\n",
    "The dataset you will use comes from the UCI Machine Learning repository Links to an external site.. The data is from a Portuguese banking institution and is a collection of the results of multiple marketing campaigns. You can make use of the article Links to an external site.accompanying the dataset (in the .zip file) for more information on the data and features.\n",
    "\n",
    "Deliverables:\n",
    "After understanding, preparing, and modeling your data, build a Jupyter Notebook that includes a clear statement demonstrating your understanding of the business problem, a correct and concise interpretation of descriptive and inferential statistics, your findings (including actionable insights), and next steps and recommendations."
   ]
  },
  {
   "cell_type": "markdown",
   "id": "bfdf5e12",
   "metadata": {},
   "source": [
    "### Step 1:  load the data by following instruction from the UIC site and loaded the bank data\n",
    "        The instruction on the site was clear\n"
   ]
  },
  {
   "cell_type": "markdown",
   "id": "425c789b",
   "metadata": {},
   "source": [
    "### Step 2 Data cleaning\n",
    "     After examining the data, we see there are some categorical and some missing data. We used the label encoding and quickly clean in.\n",
    "       Then I split it into training and test sets and prepare for different algorithms. \n",
    "       to make sure the algorithm including the Gridsearch can run on my laptop, I reduced the samples size by randomlly selected 200 samples\n",
    "### Step 3 Compare of the four models: KNN,  LogisticRegression, Decision tree, SVC\n",
    " For Comparison, we will compare both the accuracy and the time taken to train the model\n",
    "    \n",
    " - will also use Grid search to find optimal parameters for some of them\n",
    " - will compare the results on both accuracies with test, training and time taken to train\n",
    " - at the end, will plot to ROC curve for folks who are interested.\n",
    "\n",
    "### KNN:  The Grid search found the best parameters and we use the best model. \n",
    "\n",
    "knn_score_train is  0.9133333333333333\n",
    "knn_score_test is  0.86\n",
    "Best_n 3\n",
    "knn_training_time  0.0006299018859863281\n",
    "\n",
    "### Logistic Regression. \n",
    "    - Gridsearch to find the optimal paramenters for logistic Regression:  newton-cg  C =0.1\n",
    "lgr_score_train is  0.94\n",
    "lgr_score_test is  0.84\n",
    "Logistic Regreassion _training_time  0.0341029167175293\n",
    "\n",
    "### SVC best model  kernel= 'rbf', gamma=0.9   \n",
    "\n",
    "\n",
    "SVC RBF _training_time  0.006838083267211914\n",
    "svc_score_train is  0.9\n",
    "svc_score_test is  0.9\n",
    "\n",
    "### Decision Tree Classifier\n",
    " decisiontree Classifier _training_time  0.00803375244140625\n",
    "Accuracy_train: 1.0\n",
    "Accuracy_test: 0.8\n",
    "\n",
    "\n"
   ]
  },
  {
   "cell_type": "markdown",
   "id": "eecb8ddf",
   "metadata": {},
   "source": [
    "## Step 4: Finally we want to focus on  max true positive while min false positive. \n",
    "We plot the Roccurve and find the SVC with kernel= 'rbf', gamma=0.9\n",
    " model give the best that\n"
   ]
  },
  {
   "cell_type": "code",
   "execution_count": null,
   "id": "aaa530fd",
   "metadata": {},
   "outputs": [],
   "source": []
  }
 ],
 "metadata": {
  "kernelspec": {
   "display_name": "Python 3 (ipykernel)",
   "language": "python",
   "name": "python3"
  },
  "language_info": {
   "codemirror_mode": {
    "name": "ipython",
    "version": 3
   },
   "file_extension": ".py",
   "mimetype": "text/x-python",
   "name": "python",
   "nbconvert_exporter": "python",
   "pygments_lexer": "ipython3",
   "version": "3.10.9"
  }
 },
 "nbformat": 4,
 "nbformat_minor": 5
}
